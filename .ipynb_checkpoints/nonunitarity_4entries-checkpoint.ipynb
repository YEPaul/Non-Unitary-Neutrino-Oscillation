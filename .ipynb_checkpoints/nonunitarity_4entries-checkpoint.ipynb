{
 "cells": [
  {
   "cell_type": "code",
   "execution_count": 1,
   "id": "2b39aaca",
   "metadata": {},
   "outputs": [],
   "source": [
    "import matplotlib.pyplot as plt\n",
    "import numpy as np\n",
    "import time"
   ]
  },
  {
   "cell_type": "code",
   "execution_count": 2,
   "id": "6f51d2db",
   "metadata": {},
   "outputs": [],
   "source": [
    "from nuprobe.inputs import NuSystem, create_U_PMNS, create_alpha\n",
    "from nuprobe.probability import nuprobe"
   ]
  },
  {
   "cell_type": "code",
   "execution_count": 63,
   "id": "edfa2d4f",
   "metadata": {},
   "outputs": [],
   "source": [
    "t0 = time.time()\n",
    "nu_sys = NuSystem(3)\n",
    "nu_sys.set_standard_normal()\n",
    "nu_sys.set_nonunitary(1, 1, 0.9905)\n",
    "nu_sys.set_nonunitary(2, 2, 1)\n",
    "nu_sys.set_nonunitary(1, 2, 0)\n",
    "alpha1 = create_alpha(nu_sys.nonunitary.copy())\n",
    "    \n",
    "UPMNS = create_U_PMNS(nu_sys.theta, nu_sys.delta) \n",
    "U1 = alpha1 @ UPMNS\n",
    "    \n",
    "PE = []\n",
    "PE1 = []\n",
    "num = 1000\n",
    "EE = np.logspace(0, 1.4771, num)\n",
    "L = 6371*2\n",
    "    \n",
    "for i in range(num):\n",
    "    PE.append(nuprobe(2, 1, L, EE[i], nu_sys.mass, UPMNS, antinu=False, const_matter=False, V_NSI=None))\n",
    "    PE1.append(nuprobe(2, 1, L, EE[i], nu_sys.mass, U1, antinu=False, const_matter=False, V_NSI=None))"
   ]
  },
  {
   "cell_type": "code",
   "execution_count": 25,
   "id": "1e86b12b",
   "metadata": {},
   "outputs": [],
   "source": [
    "def get_chi_square(unitary, nonunitary):\n",
    "    diff = [nonuni - uni for nonuni, uni in zip(unitary, nonunitary)]\n",
    "    squared_diff = [d ** 2 for d in diff]\n",
    "    squared_sd = [(0.2 * uni) ** 2 for uni in unitary]\n",
    "    cs = [sd / ssd for sd, ssd in zip(squared_diff, squared_sd)]\n",
    "    chi_square_per_dof = sum(cs)/999\n",
    "    return chi_square_per_dof"
   ]
  },
  {
   "cell_type": "code",
   "execution_count": 64,
   "id": "94369b1c",
   "metadata": {},
   "outputs": [
    {
     "data": {
      "text/plain": [
       "28.278983121537916"
      ]
     },
     "execution_count": 64,
     "metadata": {},
     "output_type": "execute_result"
    }
   ],
   "source": [
    "get_chi_square(PE,PE1)"
   ]
  },
  {
   "cell_type": "code",
   "execution_count": null,
   "id": "75e816d8",
   "metadata": {},
   "outputs": [],
   "source": []
  }
 ],
 "metadata": {
  "kernelspec": {
   "display_name": "Python 3 (ipykernel)",
   "language": "python",
   "name": "python3"
  },
  "language_info": {
   "codemirror_mode": {
    "name": "ipython",
    "version": 3
   },
   "file_extension": ".py",
   "mimetype": "text/x-python",
   "name": "python",
   "nbconvert_exporter": "python",
   "pygments_lexer": "ipython3",
   "version": "3.9.12"
  }
 },
 "nbformat": 4,
 "nbformat_minor": 5
}
