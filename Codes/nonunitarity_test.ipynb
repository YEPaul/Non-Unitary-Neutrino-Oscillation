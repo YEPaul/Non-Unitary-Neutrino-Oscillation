{
 "cells": [
  {
   "cell_type": "code",
   "execution_count": 1,
   "id": "cfb0aab4",
   "metadata": {},
   "outputs": [
    {
     "name": "stdout",
     "output_type": "stream",
     "text": [
      "/Users/paulqwert/Documents/nuprobe\n"
     ]
    }
   ],
   "source": [
    "cd nuprobe"
   ]
  },
  {
   "cell_type": "code",
   "execution_count": 38,
   "id": "b1ce1916",
   "metadata": {},
   "outputs": [
    {
     "name": "stdout",
     "output_type": "stream",
     "text": [
      "total 96\r\n",
      "-rw-r--r--  1 paulqwert  staff     40 Jun  3 11:14 __init__.py\r\n",
      "-rw-r--r--  1 paulqwert  staff   1440 Jun  3 11:14 degeneracy.py\r\n",
      "-rw-r--r--  1 paulqwert  staff   5751 Jun  3 11:14 inputs.py\r\n",
      "-rw-r--r--  1 paulqwert  staff    429 Jun  3 11:14 matter.py\r\n",
      "-rw-r--r--  1 paulqwert  staff   1415 Jun  3 11:14 params.py\r\n",
      "-rw-r--r--  1 paulqwert  staff  19879 Jun  3 11:14 probability.py\r\n",
      "-rw-r--r--  1 paulqwert  staff     22 Jun  3 11:14 version.py\r\n",
      "drwxr-xr-x@ 9 paulqwert  staff    288 Jun  3 11:32 \u001b[34m..\u001b[m\u001b[m/\r\n",
      "drwxr-xr-x  9 paulqwert  staff    288 Jun  3 11:35 \u001b[34m.\u001b[m\u001b[m/\r\n"
     ]
    }
   ],
   "source": [
    "ls -lart"
   ]
  },
  {
   "cell_type": "code",
   "execution_count": 39,
   "id": "3457c10a",
   "metadata": {},
   "outputs": [
    {
     "name": "stdout",
     "output_type": "stream",
     "text": [
      "\n",
      "Usage:   \n",
      "  /opt/anaconda3/bin/python -m pip install [options] <requirement specifier> [package-index-options] ...\n",
      "  /opt/anaconda3/bin/python -m pip install [options] -r <requirements file> [package-index-options] ...\n",
      "  /opt/anaconda3/bin/python -m pip install [options] [-e] <vcs project url> ...\n",
      "  /opt/anaconda3/bin/python -m pip install [options] [-e] <local project path> ...\n",
      "  /opt/anaconda3/bin/python -m pip install [options] <archive url/path> ...\n",
      "\n",
      "-e option requires 1 argument\n",
      "Note: you may need to restart the kernel to use updated packages.\n"
     ]
    }
   ],
   "source": [
    "pip install -e"
   ]
  },
  {
   "cell_type": "code",
   "execution_count": 3,
   "id": "f0128e14",
   "metadata": {},
   "outputs": [],
   "source": [
    "import matplotlib.pyplot as plt\n",
    "import numpy as np\n",
    "import time"
   ]
  },
  {
   "cell_type": "code",
   "execution_count": 4,
   "id": "653cf3a9",
   "metadata": {},
   "outputs": [],
   "source": [
    "from nuprobe.inputs import NuSystem, create_U_PMNS, create_alpha\n",
    "from nuprobe.probability import nuprobe"
   ]
  },
  {
   "cell_type": "code",
   "execution_count": 451,
   "id": "2c8f719d",
   "metadata": {},
   "outputs": [],
   "source": [
    "def get_chi_square(unitary, nonunitary, sigma):\n",
    "    diff = [nonuni - uni for nonuni, uni in zip(unitary, nonunitary)]\n",
    "    squared_diff = [d ** 2 for d in diff]\n",
    "    squared_sd = [(sigma * uni) ** 2 for uni in unitary]\n",
    "    cs = [sd / ssd for sd, ssd in zip(squared_diff, squared_sd)]\n",
    "    chi_square_per_dof = sum(cs)/999\n",
    "    return chi_square_per_dof"
   ]
  },
  {
   "cell_type": "code",
   "execution_count": 458,
   "id": "ad1d1c82",
   "metadata": {},
   "outputs": [],
   "source": [
    "def run(x, y):\n",
    "    t0 = time.time()\n",
    "    nu_sys = NuSystem(3)\n",
    "    nu_sys.set_standard_normal()\n",
    "    nu_sys.set_nonunitary(2, 2, 1-x)\n",
    "    nu_sys.set_nonunitary(3, 3, 1-y)\n",
    "    alpha1 = create_alpha(nu_sys.nonunitary.copy())\n",
    "    \n",
    "    UPMNS = create_U_PMNS(nu_sys.theta, nu_sys.delta) \n",
    "    U1 = alpha1 @ UPMNS\n",
    "    \n",
    "    PE = []\n",
    "    PE1 = []\n",
    "    num = 1000\n",
    "    EE = np.logspace(0, 5, num)\n",
    "    L = 1300\n",
    "    \n",
    "    for i in range(num):\n",
    "        PE.append(nuprobe(2, 1, L, EE[i], nu_sys.mass, UPMNS, antinu=False, const_matter=True, V_NSI=None))\n",
    "        PE1.append(nuprobe(2, 1, L, EE[i], nu_sys.mass, U1, antinu=False, const_matter=True, V_NSI=None))\n",
    "        \n",
    "#     plt.rc('text', usetex=True)\n",
    "#     plt.rcParams['text.latex.preamble']=r\"\\usepackage{amsmath,slashed}\"\n",
    "#     plt.rcParams.update({'figure.autolayout': True})\n",
    "#     plt.rcParams[\"figure.figsize\"] = (8, 7)\n",
    "#     plt.rc('font', **{'family' : 'serif', 'size' : 17})\n",
    "\n",
    "    unitary = PE\n",
    "    nonunitary = PE1\n",
    "    \n",
    "    \n",
    "    \n",
    "    return (unitary, nonunitary)"
   ]
  },
  {
   "cell_type": "code",
   "execution_count": 456,
   "id": "b50a0375",
   "metadata": {},
   "outputs": [],
   "source": [
    "def run1(x, y):\n",
    "    t0 = time.time()\n",
    "    nu_sys = NuSystem(3)\n",
    "    nu_sys.set_standard_normal()\n",
    "    nu_sys.set_nonunitary(1, 1, x)\n",
    "    nu_sys.set_nonunitary(3, 3, y)\n",
    "    alpha1 = create_alpha(nu_sys.nonunitary.copy())\n",
    "    \n",
    "    UPMNS = create_U_PMNS(nu_sys.theta, nu_sys.delta) \n",
    "    U1 = alpha1 @ UPMNS\n",
    "    \n",
    "    PE = []\n",
    "    PE1 = []\n",
    "    num = 1000\n",
    "    EE = np.logspace(0, 5, num)\n",
    "    L = 1300\n",
    "    \n",
    "    for i in range(num):\n",
    "        PE.append(nuprobe(2, 1, L, EE[i], nu_sys.mass, UPMNS, antinu=False, const_matter=True, V_NSI=None))\n",
    "        PE1.append(nuprobe(2, 1, L, EE[i], nu_sys.mass, U1, antinu=False, const_matter=True, V_NSI=None))\n",
    "        \n",
    "#     plt.rc('text', usetex=True)\n",
    "#     plt.rcParams['text.latex.preamble']=r\"\\usepackage{amsmath,slashed}\"\n",
    "#     plt.rcParams.update({'figure.autolayout': True})\n",
    "#     plt.rcParams[\"figure.figsize\"] = (8, 7)\n",
    "#     plt.rc('font', **{'family' : 'serif', 'size' : 17})\n",
    "\n",
    "    unitary = PE\n",
    "    nonunitary = PE1\n",
    "    \n",
    "    \n",
    "    \n",
    "    return (unitary, nonunitary)"
   ]
  },
  {
   "cell_type": "code",
   "execution_count": 464,
   "id": "5a10511a",
   "metadata": {},
   "outputs": [],
   "source": [
    "all_results = []\n",
    "for x in np.linspace(0.45, 0, 20):\n",
    "    for y in np.linspace(0.9999, 0, 20):\n",
    "        all_results.append((x, y, run(x, y)))"
   ]
  },
  {
   "cell_type": "code",
   "execution_count": 461,
   "id": "90617bef",
   "metadata": {},
   "outputs": [
    {
     "data": {
      "text/plain": [
       "[5.389173192073879]"
      ]
     },
     "execution_count": 461,
     "metadata": {},
     "output_type": "execute_result"
    }
   ],
   "source": [
    "[get_chi_square(unitary, nonunitary, 0.2) for (unitary, nonunitary) in [run(0.45, 0.9999)]]"
   ]
  },
  {
   "cell_type": "code",
   "execution_count": 457,
   "id": "774eb033",
   "metadata": {},
   "outputs": [
    {
     "data": {
      "text/plain": [
       "[0.2581431501936927]"
      ]
     },
     "execution_count": 457,
     "metadata": {},
     "output_type": "execute_result"
    }
   ],
   "source": [
    "[get_chi_square(unitary, nonunitary, 0.2) for (unitary, nonunitary) in [run1(1, 0.1)]]"
   ]
  },
  {
   "cell_type": "code",
   "execution_count": 465,
   "id": "5603c7bf",
   "metadata": {},
   "outputs": [],
   "source": [
    "list_x_20 = []\n",
    "list_y_20 = []\n",
    "list_x_10 = []\n",
    "list_y_10 = []\n",
    "list_x_5 = []\n",
    "list_y_5 = []\n",
    "for (x, y, (unitary, nonunitary)) in all_results: \n",
    "    if get_chi_square(unitary, nonunitary, 0.2) < 4.61:\n",
    "        list_x_20.append(x)\n",
    "        list_y_20.append(y)\n",
    "    if get_chi_square(unitary, nonunitary, 0.1) < 4.61:\n",
    "        list_x_10.append(x)\n",
    "        list_y_10.append(y)\n",
    "    if get_chi_square(unitary, nonunitary, 0.05) < 4.61:\n",
    "        list_x_5.append(x)\n",
    "        list_y_5.append(y)"
   ]
  },
  {
   "cell_type": "code",
   "execution_count": 173,
   "id": "d2526f01",
   "metadata": {},
   "outputs": [
    {
     "data": {
      "text/plain": [
       "'/Users/paulqwert/Documents'"
      ]
     },
     "execution_count": 173,
     "metadata": {},
     "output_type": "execute_result"
    }
   ],
   "source": [
    "import os\n",
    "os.getcwd()"
   ]
  },
  {
   "cell_type": "code",
   "execution_count": 171,
   "id": "cee6119f",
   "metadata": {},
   "outputs": [
    {
     "name": "stdout",
     "output_type": "stream",
     "text": [
      "/Users/paulqwert/Documents\n"
     ]
    }
   ],
   "source": [
    "cd /Users/paulqwert/Documents"
   ]
  },
  {
   "cell_type": "code",
   "execution_count": 466,
   "id": "318545b3",
   "metadata": {
    "scrolled": true
   },
   "outputs": [
    {
     "data": {
      "text/plain": [
       "<matplotlib.collections.PathCollection at 0x7ff109a6dee0>"
      ]
     },
     "execution_count": 466,
     "metadata": {},
     "output_type": "execute_result"
    },
    {
     "data": {
      "image/png": "[encoded data removed]",
      "text/plain": [
       "<Figure size 432x288 with 1 Axes>"
      ]
     },
     "metadata": {
      "needs_background": "light"
     },
     "output_type": "display_data"
    }
   ],
   "source": [
    "fig = plt.figure()\n",
    "plt.xlim(0, 0.5)\n",
    "plt.ylim(0, 1.5)\n",
    "plt.xlabel(r'$\\theta_1$')\n",
    "plt.ylabel(r'$\\theta_2$')\n",
    "plt.title('Standard error ellipse for 2 diagonal entries')\n",
    "plt.scatter(list_x_20, list_y_20)"
   ]
  },
  {
   "cell_type": "code",
   "execution_count": 463,
   "id": "f3fb24c2",
   "metadata": {},
   "outputs": [
    {
     "data": {
      "image/png": "[encoded data removed]",
      "text/plain": [
       "<Figure size 432x288 with 1 Axes>"
      ]
     },
     "metadata": {
      "needs_background": "light"
     },
     "output_type": "display_data"
    }
   ],
   "source": [
    "fig = plt.figure()\n",
    "plt.xlim(0.99, 1.01)\n",
    "plt.ylim(0.99, 1.01)\n",
    "plt.xlabel(r'$\\theta_1$')\n",
    "plt.ylabel(r'$\\theta_2$')\n",
    "plt.title('Standard error ellipse for 2 diagonal entries')\n",
    "plt.scatter(list_x_10, list_y_10)\n",
    "plt.savefig('ellipse_2diag_202020.jpg', format = 'jpg', dpi = 1200)"
   ]
  },
  {
   "cell_type": "code",
   "execution_count": 182,
   "id": "d21f8b0e",
   "metadata": {},
   "outputs": [
    {
     "data": {
      "image/png": "[encoded data removed]",
      "text/plain": [
       "<Figure size 432x288 with 1 Axes>"
      ]
     },
     "metadata": {
      "needs_background": "light"
     },
     "output_type": "display_data"
    }
   ],
   "source": [
    "fig = plt.figure()\n",
    "plt.xlim(0.99, 1.01)\n",
    "plt.ylim(0.99, 1.01)\n",
    "plt.xlabel(r'$\\theta_1$')\n",
    "plt.ylabel(r'$\\theta_2$')\n",
    "plt.title('Standard error ellipse for 2 diagonal entries')\n",
    "plt.scatter(list_x_5, list_y_5)\n",
    "plt.savefig('ellipse_2diag_202020.jpg', format = 'jpg', dpi = 1200)"
   ]
  },
  {
   "cell_type": "code",
   "execution_count": 141,
   "id": "6e12f4ba",
   "metadata": {},
   "outputs": [
    {
     "ename": "SyntaxError",
     "evalue": "EOL while scanning string literal (745537138.py, line 2)",
     "output_type": "error",
     "traceback": [
      "\u001b[0;36m  Input \u001b[0;32mIn [141]\u001b[0;36m\u001b[0m\n\u001b[0;31m    os.environ[\"PATH\"] += os.pathsep + '/usr/local/texlive/2023/bin/universal-darwin\u001b[0m\n\u001b[0m                                                                                    ^\u001b[0m\n\u001b[0;31mSyntaxError\u001b[0m\u001b[0;31m:\u001b[0m EOL while scanning string literal\n"
     ]
    }
   ],
   "source": [
    "os.environ[\"PATH\"] += os.pathsep + '/usr/local/texlive/2023/bin/universal-darwin"
   ]
  },
  {
   "cell_type": "code",
   "execution_count": 577,
   "id": "c195f5e1",
   "metadata": {},
   "outputs": [],
   "source": [
    "def run(m, p):\n",
    "    t0 = time.time()\n",
    "    nu_sys = NuSystem(3)\n",
    "    nu_sys.set_standard_normal()\n",
    "    nu_sys.set_nonunitary(2, 3, m*np.exp(np.pi*p*1j))\n",
    "    alpha1 = create_alpha(nu_sys.nonunitary.copy())\n",
    "    \n",
    "    UPMNS = create_U_PMNS(nu_sys.theta, nu_sys.delta) \n",
    "    U1 = alpha1 @ UPMNS\n",
    "    \n",
    "    PE = []\n",
    "    PE1 = []\n",
    "    num = 1000\n",
    "    EE = np.logspace(0, 5, num)\n",
    "    L = 1300\n",
    "    \n",
    "    for i in range(num):\n",
    "        PE.append(nuprobe(2, 1, L, EE[i], nu_sys.mass, UPMNS, antinu=False, const_matter=True, V_NSI=None))\n",
    "        PE1.append(nuprobe(2, 1, L, EE[i], nu_sys.mass, U1, antinu=False, const_matter=True, V_NSI=None))\n",
    "        \n",
    "#     plt.rc('text', usetex=True)\n",
    "#     plt.rcParams['text.latex.preamble']=r\"\\usepackage{amsmath,slashed}\"\n",
    "#     plt.rcParams.update({'figure.autolayout': True})\n",
    "#     plt.rcParams[\"figure.figsize\"] = (8, 7)\n",
    "#     plt.rc('font', **{'family' : 'serif', 'size' : 17})\n",
    "\n",
    "    unitary = PE\n",
    "    nonunitary = PE1\n",
    "    \n",
    "    \n",
    "    \n",
    "    return (unitary, nonunitary)"
   ]
  },
  {
   "cell_type": "code",
   "execution_count": 588,
   "id": "86b2cd71",
   "metadata": {},
   "outputs": [
    {
     "name": "stdout",
     "output_type": "stream",
     "text": [
      "0.3644018520827549\n"
     ]
    }
   ],
   "source": [
    "for (unitary, nonunitary) in [run(4500, 0.7)]:\n",
    "    print(get_chi_square(unitary, nonunitary, 0.2))"
   ]
  },
  {
   "cell_type": "code",
   "execution_count": 625,
   "id": "46b296f5",
   "metadata": {},
   "outputs": [
    {
     "name": "stdout",
     "output_type": "stream",
     "text": [
      "(0.0, 469.188883751381)\n",
      "WARNING: Probability greater than 1. Check the relative tolerance rtol.\n",
      "(0.1, nan)\n",
      "(0.2, nan)\n",
      "WARNING: Probability greater than 1. Check the relative tolerance rtol.\n",
      "WARNING: Probability greater than 1. Check the relative tolerance rtol.\n",
      "WARNING: Probability greater than 1. Check the relative tolerance rtol.\n",
      "(0.30000000000000004, nan)\n",
      "(0.4, nan)\n",
      "WARNING: Probability greater than 1. Check the relative tolerance rtol.\n",
      "WARNING: Probability greater than 1. Check the relative tolerance rtol.\n",
      "(0.5, nan)\n",
      "(0.6000000000000001, 5069.344189885434)\n",
      "WARNING: Probability greater than 1. Check the relative tolerance rtol.\n",
      "(0.7000000000000001, 9734.710634444667)\n",
      "(0.8, nan)\n",
      "(0.9, nan)\n",
      "(1.0, 532.4432864446375)\n",
      "(1.1, 818.6114713161082)\n",
      "(1.2000000000000002, 555.8531924659579)\n",
      "(1.3, 168.9643492127624)\n",
      "(1.4000000000000001, 33.146284829068506)\n",
      "(1.5, 24.88091226089552)\n",
      "(1.6, 26.118492501724287)\n",
      "(1.7000000000000002, 106.41022847502823)\n",
      "(1.8, 403.9058587927485)\n",
      "(1.9000000000000001, 662.9601204763583)\n",
      "(2.0, nan)\n"
     ]
    }
   ],
   "source": [
    "for p in np.linspace(0, 2, 21):\n",
    "    for (unitary, nonunitary) in [run(5820, p)]:\n",
    "        print((p, get_chi_square(unitary, nonunitary, 0.2)))"
   ]
  },
  {
   "cell_type": "code",
   "execution_count": 626,
   "id": "ed815888",
   "metadata": {},
   "outputs": [
    {
     "name": "stdout",
     "output_type": "stream",
     "text": [
      "WARNING: Probability greater than 1. Check the relative tolerance rtol.\n",
      "WARNING: Probability greater than 1. Check the relative tolerance rtol.\n",
      "WARNING: Probability greater than 1. Check the relative tolerance rtol.\n"
     ]
    }
   ],
   "source": [
    "all_results_mp = []\n",
    "for m in np.linspace(0, 5810, 21):\n",
    "    for p in np.linspace(0, 2, 21):\n",
    "        all_results_mp.append((m, p, run(m, p)))"
   ]
  },
  {
   "cell_type": "code",
   "execution_count": 627,
   "id": "1a76d8d1",
   "metadata": {},
   "outputs": [],
   "source": [
    "list_m_20 = []\n",
    "list_p_20 = []\n",
    "list_m_10 = []\n",
    "list_p_10 = []\n",
    "list_m_5 = []\n",
    "list_p_5 = []\n",
    "for (m, p, (unitary, nonunitary)) in all_results_mp: \n",
    "    if get_chi_square(unitary, nonunitary, 0.2) < 4.61:\n",
    "        list_m_20.append(m)\n",
    "        list_p_20.append(p)\n",
    "    if get_chi_square(unitary, nonunitary, 0.1) < 4.61:\n",
    "        list_m_10.append(m)\n",
    "        list_p_10.append(p)\n",
    "    if get_chi_square(unitary, nonunitary, 0.05) < 4.61:\n",
    "        list_m_5.append(m)\n",
    "        list_p_5.append(p)"
   ]
  },
  {
   "cell_type": "code",
   "execution_count": 633,
   "id": "6d00e79d",
   "metadata": {},
   "outputs": [
    {
     "data": {
      "text/plain": [
       "<matplotlib.collections.PathCollection at 0x7ff10a06b940>"
      ]
     },
     "execution_count": 633,
     "metadata": {},
     "output_type": "execute_result"
    },
    {
     "data": {
      "image/png": "[encoded data removed]",
      "text/plain": [
       "<Figure size 432x288 with 1 Axes>"
      ]
     },
     "metadata": {
      "needs_background": "light"
     },
     "output_type": "display_data"
    }
   ],
   "source": [
    "fig = plt.figure()\n",
    "plt.ylim(-5, 5820)\n",
    "plt.xlim(-0.05, 2.1)\n",
    "plt.scatter(list_p_20, list_m_20)"
   ]
  },
  {
   "cell_type": "code",
   "execution_count": 5,
   "id": "9023a0a4",
   "metadata": {},
   "outputs": [
    {
     "data": {
      "text/plain": [
       "array([[ 0.8251638 +0.j        ,  0.54487705+0.j        ,\n",
       "        -0.14461681+0.03605107j],\n",
       "       [-0.26870191+0.02277344j,  0.60559417+0.01503789j,\n",
       "         0.74853872+0.j        ],\n",
       "       [ 0.4959828 +0.01965758j, -0.57962925+0.01298041j,\n",
       "         0.64612389+0.j        ]])"
      ]
     },
     "execution_count": 5,
     "metadata": {},
     "output_type": "execute_result"
    }
   ],
   "source": [
    "nu_sys = NuSystem(3)\n",
    "nu_sys.set_standard_normal()\n",
    "nu_sys.set_nonunitary(2, 3, 1*np.exp(np.pi*1*1j))\n",
    "alpha1 = create_alpha(nu_sys.nonunitary.copy())\n",
    "    \n",
    "UPMNS = create_U_PMNS(nu_sys.theta, nu_sys.delta) \n",
    "U1 = alpha1 @ UPMNS\n",
    "UPMNS"
   ]
  },
  {
   "cell_type": "code",
   "execution_count": null,
   "id": "fc4a162b",
   "metadata": {},
   "outputs": [],
   "source": []
  },
  {
   "cell_type": "code",
   "execution_count": null,
   "id": "695f3c88",
   "metadata": {},
   "outputs": [],
   "source": []
  },
  {
   "cell_type": "code",
   "execution_count": null,
   "id": "657a7405",
   "metadata": {},
   "outputs": [],
   "source": []
  },
  {
   "cell_type": "code",
   "execution_count": null,
   "id": "832d03a4",
   "metadata": {},
   "outputs": [],
   "source": []
  }
 ],
 "metadata": {
  "kernelspec": {
   "display_name": "Python 3 (ipykernel)",
   "language": "python",
   "name": "python3"
  },
  "language_info": {
   "codemirror_mode": {
    "name": "ipython",
    "version": 3
   },
   "file_extension": ".py",
   "mimetype": "text/x-python",
   "name": "python",
   "nbconvert_exporter": "python",
   "pygments_lexer": "ipython3",
   "version": "3.10.6"
  }
 },
 "nbformat": 4,
 "nbformat_minor": 5
}
