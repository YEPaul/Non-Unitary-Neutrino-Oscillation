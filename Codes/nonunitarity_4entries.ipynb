{
 "cells": [
  {
   "cell_type": "code",
   "execution_count": 1,
   "id": "666f5f78",
   "metadata": {},
   "outputs": [],
   "source": [
    "import matplotlib.pyplot as plt\n",
    "import numpy as np\n",
    "import time"
   ]
  },
  {
   "cell_type": "code",
   "execution_count": 2,
   "id": "720e2dc2",
   "metadata": {},
   "outputs": [],
   "source": [
    "from nuprobe.inputs import NuSystem, create_U_PMNS, create_alpha\n",
    "from nuprobe.probability import nuprobe"
   ]
  },
  {
   "cell_type": "code",
   "execution_count": 3,
   "id": "513b5749",
   "metadata": {},
   "outputs": [],
   "source": [
    "def run21(x1, x2, x3, p12, p13, p21, p23, p31, p32):\n",
    "    nu_sys = NuSystem(3)\n",
    "    nu_sys.set_standard_normal()\n",
    "    nu_sys.set_nonunitary(1, 1, 1 - x1)\n",
    "    nu_sys.set_nonunitary(2, 2, 1 - x2)\n",
    "    nu_sys.set_nonunitary(3, 3, 1 - x3)\n",
    "    nu_sys.set_nonunitary(1, 2, p12)\n",
    "    nu_sys.set_nonunitary(1, 3, p13)\n",
    "    nu_sys.set_nonunitary(2, 1, p21)\n",
    "    nu_sys.set_nonunitary(2, 3, p23)\n",
    "    nu_sys.set_nonunitary(3, 1, p31)\n",
    "    nu_sys.set_nonunitary(3, 2, p32)\n",
    "    alpha1 = create_alpha(nu_sys.nonunitary.copy())\n",
    "    UPMNS = create_U_PMNS(nu_sys.theta, nu_sys.delta) \n",
    "    U1 = alpha1 @ UPMNS\n",
    "\n",
    "    PE = []\n",
    "    PE1 = []\n",
    "    num = 1000\n",
    "    EE = np.logspace(0, 5, num)\n",
    "    L = 1300\n",
    "\n",
    "    for i in range(num):\n",
    "        PE.append(nuprobe(2, 1, L, EE[i], nu_sys.mass, UPMNS, antinu=False, const_matter=True, V_NSI=None))\n",
    "        PE1.append(nuprobe(2, 1, L, EE[i], nu_sys.mass, U1, antinu=False, const_matter=True, V_NSI=None))\n",
    "\n",
    "    #     plt.rc('text', usetex=True)\n",
    "    #     plt.rcParams['text.latex.preamble']=r\"\\usepackage{amsmath,slashed}\"\n",
    "    #     plt.rcParams.update({'figure.autolayout': True})\n",
    "    #     plt.rcParams[\"figure.figsize\"] = (8, 7)\n",
    "    #     plt.rc('font', **{'family' : 'serif', 'size' : 17})\n",
    "    unitary = PE\n",
    "    nonunitary = PE1\n",
    "    \n",
    "    \n",
    "    \n",
    "    return (unitary, nonunitary)"
   ]
  },
  {
   "cell_type": "code",
   "execution_count": 4,
   "id": "388f8175",
   "metadata": {},
   "outputs": [],
   "source": [
    "def run31(x1, x2, x3, p12, p13, p21, p23, p31, p32):\n",
    "    nu_sys = NuSystem(3)\n",
    "    nu_sys.set_standard_normal()\n",
    "    nu_sys.set_nonunitary(1, 1, 1 - x1)\n",
    "    nu_sys.set_nonunitary(2, 2, 1 - x2)\n",
    "    nu_sys.set_nonunitary(3, 3, 1 - x3)\n",
    "    nu_sys.set_nonunitary(1, 2, p12)\n",
    "    nu_sys.set_nonunitary(1, 3, p13)\n",
    "    nu_sys.set_nonunitary(2, 1, p21)\n",
    "    nu_sys.set_nonunitary(2, 3, p23)\n",
    "    nu_sys.set_nonunitary(3, 1, p31)\n",
    "    nu_sys.set_nonunitary(3, 2, p32)\n",
    "    alpha1 = create_alpha(nu_sys.nonunitary.copy())\n",
    "    UPMNS = create_U_PMNS(nu_sys.theta, nu_sys.delta) \n",
    "    U1 = alpha1 @ UPMNS\n",
    "\n",
    "    PE = []\n",
    "    PE1 = []\n",
    "    num = 1000\n",
    "    EE = np.logspace(0, 5, num)\n",
    "    L = 1300\n",
    "\n",
    "    for i in range(num):\n",
    "        PE.append(nuprobe(3, 1, L, EE[i], nu_sys.mass, UPMNS, antinu=False, const_matter=True, V_NSI=None))\n",
    "        PE1.append(nuprobe(3, 1, L, EE[i], nu_sys.mass, U1, antinu=False, const_matter=True, V_NSI=None))\n",
    "\n",
    "    #     plt.rc('text', usetex=True)\n",
    "    #     plt.rcParams['text.latex.preamble']=r\"\\usepackage{amsmath,slashed}\"\n",
    "    #     plt.rcParams.update({'figure.autolayout': True})\n",
    "    #     plt.rcParams[\"figure.figsize\"] = (8, 7)\n",
    "    #     plt.rc('font', **{'family' : 'serif', 'size' : 17})\n",
    "    unitary = PE\n",
    "    nonunitary = PE1\n",
    "    \n",
    "    \n",
    "    \n",
    "    return (unitary, nonunitary)"
   ]
  },
  {
   "cell_type": "code",
   "execution_count": 5,
   "id": "8e65aaee",
   "metadata": {},
   "outputs": [],
   "source": [
    "def run32(x1, x2, x3, p12, p13, p21, p23, p31, p32):\n",
    "    nu_sys = NuSystem(3)\n",
    "    nu_sys.set_standard_normal()\n",
    "    nu_sys.set_nonunitary(1, 1, 1 - x1)\n",
    "    nu_sys.set_nonunitary(2, 2, 1 - x2)\n",
    "    nu_sys.set_nonunitary(3, 3, 1 - x3)\n",
    "    nu_sys.set_nonunitary(1, 2, p12)\n",
    "    nu_sys.set_nonunitary(1, 3, p13)\n",
    "    nu_sys.set_nonunitary(2, 1, p21)\n",
    "    nu_sys.set_nonunitary(2, 3, p23)\n",
    "    nu_sys.set_nonunitary(3, 1, p31)\n",
    "    nu_sys.set_nonunitary(3, 2, p32)\n",
    "    alpha1 = create_alpha(nu_sys.nonunitary.copy())\n",
    "    UPMNS = create_U_PMNS(nu_sys.theta, nu_sys.delta) \n",
    "    U1 = alpha1 @ UPMNS\n",
    "\n",
    "    PE = []\n",
    "    PE1 = []\n",
    "    num = 1000\n",
    "    EE = np.logspace(0, 5, num)\n",
    "    L = 1300\n",
    "\n",
    "    for i in range(num):\n",
    "        PE.append(nuprobe(3, 2, L, EE[i], nu_sys.mass, UPMNS, antinu=False, const_matter=True, V_NSI=None))\n",
    "        PE1.append(nuprobe(3, 2, L, EE[i], nu_sys.mass, U1, antinu=False, const_matter=True, V_NSI=None))\n",
    "\n",
    "    #     plt.rc('text', usetex=True)\n",
    "    #     plt.rcParams['text.latex.preamble']=r\"\\usepackage{amsmath,slashed}\"\n",
    "    #     plt.rcParams.update({'figure.autolayout': True})\n",
    "    #     plt.rcParams[\"figure.figsize\"] = (8, 7)\n",
    "    #     plt.rc('font', **{'family' : 'serif', 'size' : 17})\n",
    "    unitary = PE\n",
    "    nonunitary = PE1\n",
    "    \n",
    "    \n",
    "    \n",
    "    return (unitary, nonunitary)"
   ]
  },
  {
   "cell_type": "code",
   "execution_count": 6,
   "id": "6f7b2ce1",
   "metadata": {},
   "outputs": [],
   "source": [
    "def test(m12, p12, m13, p13, m23, p23):\n",
    "    t0 = time.time()\n",
    "    nu_sys = NuSystem(3)\n",
    "    nu_sys.set_standard_normal()\n",
    "    nu_sys.set_nonunitary(1, 2, m12*np.exp(np.pi*p12*1j))\n",
    "    nu_sys.set_nonunitary(1, 3, m13*np.exp(np.pi*p13*1j))\n",
    "    nu_sys.set_nonunitary(2, 3, m23*np.exp(np.pi*p23*1j))\n",
    "    alpha1 = create_alpha(nu_sys.nonunitary.copy())\n",
    "    \n",
    "    UPMNS = create_U_PMNS(nu_sys.theta, nu_sys.delta) \n",
    "    U1 = alpha1 @ UPMNS\n",
    "    \n",
    "    PE = []\n",
    "    PE1 = []\n",
    "    num = 1000\n",
    "    EE = np.logspace(0, 5, num)\n",
    "    L = 1300\n",
    "    \n",
    "    for i in range(num):\n",
    "        PE.append(nuprobe(1, 1, L, EE[i], nu_sys.mass, UPMNS, antinu=False, const_matter=True, V_NSI=None))\n",
    "        PE1.append(nuprobe(1, 1, L, EE[i], nu_sys.mass, U1, antinu=False, const_matter=True, V_NSI=None))\n",
    "        \n",
    "#     plt.rc('text', usetex=True)\n",
    "#     plt.rcParams['text.latex.preamble']=r\"\\usepackage{amsmath,slashed}\"\n",
    "#     plt.rcParams.update({'figure.autolayout': True})\n",
    "#     plt.rcParams[\"figure.figsize\"] = (8, 7)\n",
    "#     plt.rc('font', **{'family' : 'serif', 'size' : 17})\n",
    "\n",
    "    unitary = PE\n",
    "    nonunitary = PE1\n",
    "    \n",
    "    \n",
    "    \n",
    "    return (unitary, nonunitary)"
   ]
  },
  {
   "cell_type": "code",
   "execution_count": 7,
   "id": "8544858b",
   "metadata": {},
   "outputs": [],
   "source": [
    "def get_chi_square(unitary, nonunitary, sigma):\n",
    "    diff = [nonuni - uni for nonuni, uni in zip(unitary, nonunitary)]\n",
    "    squared_diff = [d ** 2 for d in diff]\n",
    "    squared_sd = [(sigma * uni) ** 2 for uni in unitary]\n",
    "    cs = [sd / ssd for sd, ssd in zip(squared_diff, squared_sd)]\n",
    "    chi_square_per_dof = sum(cs)/999\n",
    "    return chi_square_per_dof"
   ]
  },
  {
   "cell_type": "code",
   "execution_count": 8,
   "id": "2d2731f0",
   "metadata": {},
   "outputs": [
    {
     "data": {
      "text/plain": [
       "[4.023588432930426]"
      ]
     },
     "execution_count": 8,
     "metadata": {},
     "output_type": "execute_result"
    }
   ],
   "source": [
    "[get_chi_square(unitary, nonunitary, 0.2) for (unitary, nonunitary) in [run21(0.4, 0, 0, 0, 0, 0, 0, 0, 0)]]"
   ]
  },
  {
   "cell_type": "code",
   "execution_count": 13,
   "id": "f2c840ab",
   "metadata": {},
   "outputs": [
    {
     "data": {
      "text/plain": [
       "[4.8143456953971695]"
      ]
     },
     "execution_count": 13,
     "metadata": {},
     "output_type": "execute_result"
    }
   ],
   "source": [
    "[get_chi_square(unitary, nonunitary, 0.2) for (unitary, nonunitary) in [run31(0, 0, 0.45, 0, 0, 0, 0, 0, 0)]]"
   ]
  },
  {
   "cell_type": "code",
   "execution_count": 18,
   "id": "d2b110fd",
   "metadata": {},
   "outputs": [
    {
     "data": {
      "text/plain": [
       "[5.134252603839644]"
      ]
     },
     "execution_count": 18,
     "metadata": {},
     "output_type": "execute_result"
    }
   ],
   "source": [
    "[get_chi_square(unitary, nonunitary, 0.2) for (unitary, nonunitary) in [run32(0, 0, 0.45, 0, 0, 0, 0, 0, 0)]]"
   ]
  },
  {
   "cell_type": "code",
   "execution_count": 20,
   "id": "5f4712ab",
   "metadata": {},
   "outputs": [
    {
     "ename": "KeyboardInterrupt",
     "evalue": "",
     "output_type": "error",
     "traceback": [
      "\u001b[0;31m---------------------------------------------------------------------------\u001b[0m",
      "\u001b[0;31mKeyboardInterrupt\u001b[0m                         Traceback (most recent call last)",
      "Input \u001b[0;32mIn [20]\u001b[0m, in \u001b[0;36m<cell line: 2>\u001b[0;34m()\u001b[0m\n\u001b[1;32m      2\u001b[0m \u001b[38;5;28;01mfor\u001b[39;00m x1 \u001b[38;5;129;01min\u001b[39;00m np\u001b[38;5;241m.\u001b[39mlinspace(\u001b[38;5;241m0.45\u001b[39m, \u001b[38;5;241m0\u001b[39m, \u001b[38;5;241m100\u001b[39m):\n\u001b[1;32m      3\u001b[0m     \u001b[38;5;28;01mfor\u001b[39;00m x2 \u001b[38;5;129;01min\u001b[39;00m np\u001b[38;5;241m.\u001b[39mlinspace(\u001b[38;5;241m0.45\u001b[39m, \u001b[38;5;241m0\u001b[39m, \u001b[38;5;241m100\u001b[39m):\n\u001b[0;32m----> 4\u001b[0m             list_x1x2\u001b[38;5;241m.\u001b[39mappend((x1, x2, \u001b[43mrun21\u001b[49m\u001b[43m(\u001b[49m\u001b[43mx1\u001b[49m\u001b[43m,\u001b[49m\u001b[43m \u001b[49m\u001b[43mx2\u001b[49m\u001b[43m,\u001b[49m\u001b[43m \u001b[49m\u001b[38;5;241;43m0\u001b[39;49m\u001b[43m,\u001b[49m\u001b[43m \u001b[49m\u001b[38;5;241;43m0\u001b[39;49m\u001b[43m,\u001b[49m\u001b[43m \u001b[49m\u001b[38;5;241;43m0\u001b[39;49m\u001b[43m,\u001b[49m\u001b[43m \u001b[49m\u001b[38;5;241;43m0\u001b[39;49m\u001b[43m,\u001b[49m\u001b[43m \u001b[49m\u001b[38;5;241;43m0\u001b[39;49m\u001b[43m,\u001b[49m\u001b[43m \u001b[49m\u001b[38;5;241;43m0\u001b[39;49m\u001b[43m,\u001b[49m\u001b[43m \u001b[49m\u001b[38;5;241;43m0\u001b[39;49m\u001b[43m)\u001b[49m))\n",
      "Input \u001b[0;32mIn [3]\u001b[0m, in \u001b[0;36mrun21\u001b[0;34m(x1, x2, x3, p12, p13, p21, p23, p31, p32)\u001b[0m\n\u001b[1;32m     21\u001b[0m L \u001b[38;5;241m=\u001b[39m \u001b[38;5;241m1300\u001b[39m\n\u001b[1;32m     23\u001b[0m \u001b[38;5;28;01mfor\u001b[39;00m i \u001b[38;5;129;01min\u001b[39;00m \u001b[38;5;28mrange\u001b[39m(num):\n\u001b[0;32m---> 24\u001b[0m     PE\u001b[38;5;241m.\u001b[39mappend(\u001b[43mnuprobe\u001b[49m\u001b[43m(\u001b[49m\u001b[38;5;241;43m2\u001b[39;49m\u001b[43m,\u001b[49m\u001b[43m \u001b[49m\u001b[38;5;241;43m1\u001b[39;49m\u001b[43m,\u001b[49m\u001b[43m \u001b[49m\u001b[43mL\u001b[49m\u001b[43m,\u001b[49m\u001b[43m \u001b[49m\u001b[43mEE\u001b[49m\u001b[43m[\u001b[49m\u001b[43mi\u001b[49m\u001b[43m]\u001b[49m\u001b[43m,\u001b[49m\u001b[43m \u001b[49m\u001b[43mnu_sys\u001b[49m\u001b[38;5;241;43m.\u001b[39;49m\u001b[43mmass\u001b[49m\u001b[43m,\u001b[49m\u001b[43m \u001b[49m\u001b[43mUPMNS\u001b[49m\u001b[43m,\u001b[49m\u001b[43m \u001b[49m\u001b[43mantinu\u001b[49m\u001b[38;5;241;43m=\u001b[39;49m\u001b[38;5;28;43;01mFalse\u001b[39;49;00m\u001b[43m,\u001b[49m\u001b[43m \u001b[49m\u001b[43mconst_matter\u001b[49m\u001b[38;5;241;43m=\u001b[39;49m\u001b[38;5;28;43;01mTrue\u001b[39;49;00m\u001b[43m,\u001b[49m\u001b[43m \u001b[49m\u001b[43mV_NSI\u001b[49m\u001b[38;5;241;43m=\u001b[39;49m\u001b[38;5;28;43;01mNone\u001b[39;49;00m\u001b[43m)\u001b[49m)\n\u001b[1;32m     25\u001b[0m     PE1\u001b[38;5;241m.\u001b[39mappend(nuprobe(\u001b[38;5;241m2\u001b[39m, \u001b[38;5;241m1\u001b[39m, L, EE[i], nu_sys\u001b[38;5;241m.\u001b[39mmass, U1, antinu\u001b[38;5;241m=\u001b[39m\u001b[38;5;28;01mFalse\u001b[39;00m, const_matter\u001b[38;5;241m=\u001b[39m\u001b[38;5;28;01mTrue\u001b[39;00m, V_NSI\u001b[38;5;241m=\u001b[39m\u001b[38;5;28;01mNone\u001b[39;00m))\n\u001b[1;32m     27\u001b[0m \u001b[38;5;66;03m#     plt.rc('text', usetex=True)\u001b[39;00m\n\u001b[1;32m     28\u001b[0m \u001b[38;5;66;03m#     plt.rcParams['text.latex.preamble']=r\"\\usepackage{amsmath,slashed}\"\u001b[39;00m\n\u001b[1;32m     29\u001b[0m \u001b[38;5;66;03m#     plt.rcParams.update({'figure.autolayout': True})\u001b[39;00m\n\u001b[1;32m     30\u001b[0m \u001b[38;5;66;03m#     plt.rcParams[\"figure.figsize\"] = (8, 7)\u001b[39;00m\n\u001b[1;32m     31\u001b[0m \u001b[38;5;66;03m#     plt.rc('font', **{'family' : 'serif', 'size' : 17})\u001b[39;00m\n",
      "File \u001b[0;32m~/Neutrino Research/nuprobe/probability.py:367\u001b[0m, in \u001b[0;36mnuprobe\u001b[0;34m(a, b, L, E, mass, UU, antinu, const_matter, V_NSI)\u001b[0m\n\u001b[1;32m    364\u001b[0m         V \u001b[38;5;241m=\u001b[39m \u001b[38;5;241m-\u001b[39mV\n\u001b[1;32m    366\u001b[0m     H \u001b[38;5;241m=\u001b[39m hamiltonian(E, mass, UU, V) \n\u001b[0;32m--> 367\u001b[0m     Prob \u001b[38;5;241m=\u001b[39m np\u001b[38;5;241m.\u001b[39mabs(\u001b[43mSS\u001b[49m\u001b[43m(\u001b[49m\u001b[43mb\u001b[49m\u001b[43m,\u001b[49m\u001b[43m \u001b[49m\u001b[43ma\u001b[49m\u001b[43m,\u001b[49m\u001b[43m \u001b[49m\u001b[43mL\u001b[49m\u001b[43m,\u001b[49m\u001b[43m \u001b[49m\u001b[43mE\u001b[49m\u001b[43m,\u001b[49m\u001b[43m \u001b[49m\u001b[43mH\u001b[49m\u001b[43m,\u001b[49m\u001b[43m \u001b[49m\u001b[43mUU\u001b[49m\u001b[43m)\u001b[49m)\u001b[38;5;241m*\u001b[39m\u001b[38;5;241m*\u001b[39m\u001b[38;5;241m2\u001b[39m\n\u001b[1;32m    369\u001b[0m \u001b[38;5;28;01melse\u001b[39;00m:\n\u001b[1;32m    370\u001b[0m     dl \u001b[38;5;241m=\u001b[39m \u001b[38;5;28mlen\u001b[39m(rho_LL)\n",
      "File \u001b[0;32m~/Neutrino Research/nuprobe/probability.py:322\u001b[0m, in \u001b[0;36mSS\u001b[0;34m(b, a, L, E, H, U)\u001b[0m\n\u001b[1;32m    319\u001b[0m XX \u001b[38;5;241m=\u001b[39m mixing(H)\n\u001b[1;32m    321\u001b[0m \u001b[38;5;66;03m# Sum over the distinct eigenvalues\u001b[39;00m\n\u001b[0;32m--> 322\u001b[0m Xtot \u001b[38;5;241m=\u001b[39m \u001b[43mnp\u001b[49m\u001b[38;5;241;43m.\u001b[39;49m\u001b[43mzeros\u001b[49m\u001b[43m(\u001b[49m\u001b[43mshape\u001b[49m\u001b[38;5;241;43m=\u001b[39;49m\u001b[43m(\u001b[49m\u001b[43md\u001b[49m\u001b[43m,\u001b[49m\u001b[43m \u001b[49m\u001b[43md\u001b[49m\u001b[43m)\u001b[49m\u001b[43m,\u001b[49m\u001b[43m \u001b[49m\u001b[43mdtype\u001b[49m\u001b[38;5;241;43m=\u001b[39;49m\u001b[38;5;28;43mcomplex\u001b[39;49m\u001b[43m)\u001b[49m\n\u001b[1;32m    323\u001b[0m \u001b[38;5;28;01mfor\u001b[39;00m i \u001b[38;5;129;01min\u001b[39;00m \u001b[38;5;28mrange\u001b[39m(d_eigen):\n\u001b[1;32m    324\u001b[0m     Xtot \u001b[38;5;241m=\u001b[39m Xtot \u001b[38;5;241m+\u001b[39m XX[i]\u001b[38;5;241m*\u001b[39mnp\u001b[38;5;241m.\u001b[39mexp(\u001b[38;5;241m-\u001b[39m\u001b[38;5;241m1\u001b[39mj\u001b[38;5;241m*\u001b[39mCONV_L\u001b[38;5;241m*\u001b[39mll[i]\u001b[38;5;241m*\u001b[39mL)\n",
      "\u001b[0;31mKeyboardInterrupt\u001b[0m: "
     ]
    }
   ],
   "source": [
    "list_x1x2 = []\n",
    "for x1 in np.linspace(0.45, 0, 100):\n",
    "    for x2 in np.linspace(0.45, 0, 100):\n",
    "            list_x1x2.append((x1, x2, run21(x1, x2, 0, 0, 0, 0, 0, 0, 0)))"
   ]
  },
  {
   "cell_type": "code",
   "execution_count": 21,
   "id": "f0dd5dcd",
   "metadata": {},
   "outputs": [],
   "source": [
    "list_x1x3 = []\n",
    "for x1 in np.linspace(0.45, 0, 100):\n",
    "    for x3 in np.linspace(0.45, 0, 100):\n",
    "            list_x1x3.append((x1, x3, run31(x1, 0, x3, 0, 0, 0, 0, 0, 0)))"
   ]
  },
  {
   "cell_type": "code",
   "execution_count": 25,
   "id": "40ef80d3",
   "metadata": {},
   "outputs": [],
   "source": [
    "list_x2x3 = []\n",
    "for x2 in np.linspace(0.45, 0, 100):\n",
    "    for x3 in np.linspace(0.45, 0, 100):\n",
    "            list_x2x3.append((x2, x3, run32(0, x2, x3, 0, 0, 0, 0, 0, 0)))"
   ]
  },
  {
   "cell_type": "code",
   "execution_count": 319,
   "id": "96347f61",
   "metadata": {},
   "outputs": [],
   "source": [
    "list_m12p12 = []\n",
    "for m12 in np.linspace(0, 0.000028, 100):\n",
    "    for p12 in np.linspace(0, 2, 100):\n",
    "        list_m12p12.append((m12, p12, test(m12, p12, 0 ,0 ,0 ,0)))"
   ]
  },
  {
   "cell_type": "code",
   "execution_count": 332,
   "id": "cb802dd6",
   "metadata": {},
   "outputs": [],
   "source": [
    "list_m13p13 = []\n",
    "for m13 in np.linspace(0, 1.3, 100):\n",
    "    for p13 in np.linspace(0, 2, 100):\n",
    "        list_m13p13.append((m13, p13, test(0, 0, m13 ,p13 ,0 ,0)))"
   ]
  },
  {
   "cell_type": "code",
   "execution_count": 1,
   "id": "90fea3ad",
   "metadata": {},
   "outputs": [
    {
     "ename": "NameError",
     "evalue": "name 'np' is not defined",
     "output_type": "error",
     "traceback": [
      "\u001b[0;31m---------------------------------------------------------------------------\u001b[0m",
      "\u001b[0;31mNameError\u001b[0m                                 Traceback (most recent call last)",
      "Cell \u001b[0;32mIn[1], line 2\u001b[0m\n\u001b[1;32m      1\u001b[0m list_m23p23 \u001b[39m=\u001b[39m []\n\u001b[0;32m----> 2\u001b[0m \u001b[39mfor\u001b[39;00m m23 \u001b[39min\u001b[39;00m np\u001b[39m.\u001b[39mlinspace(\u001b[39m0\u001b[39m, \u001b[39m5000\u001b[39m, \u001b[39m100\u001b[39m):\n\u001b[1;32m      3\u001b[0m     \u001b[39mfor\u001b[39;00m p23 \u001b[39min\u001b[39;00m np\u001b[39m.\u001b[39mlinspace(\u001b[39m0\u001b[39m, \u001b[39m2\u001b[39m, \u001b[39m100\u001b[39m):\n\u001b[1;32m      4\u001b[0m         list_m23p23\u001b[39m.\u001b[39mappend((m23, p23, test(\u001b[39m0\u001b[39m, \u001b[39m0\u001b[39m, \u001b[39m0\u001b[39m ,\u001b[39m0\u001b[39m ,m23 ,p23)))\n",
      "\u001b[0;31mNameError\u001b[0m: name 'np' is not defined"
     ]
    }
   ],
   "source": [
    "list_m23p23 = []\n",
    "for m23 in np.linspace(0, 5000, 100):\n",
    "    for p23 in np.linspace(0, 2, 100):\n",
    "        list_m23p23.append((m23, p23, test(0, 0, 0 ,0 ,m23 ,p23)))"
   ]
  },
  {
   "cell_type": "code",
   "execution_count": 197,
   "id": "83d49a04",
   "metadata": {},
   "outputs": [],
   "source": [
    "listx_x1x2_20 = []\n",
    "listy_x1x2_20 = []\n",
    "listx_x1x2_10 = []\n",
    "listy_x1x2_10 = []\n",
    "listx_x1x2_5 = []\n",
    "listy_x1x2_5 = []\n",
    "for (x, y, (unitary, nonunitary)) in list_x1x2: \n",
    "    if get_chi_square(unitary, nonunitary, 0.2) < 4.61:\n",
    "        listx_x1x2_20.append(x)\n",
    "        listy_x1x2_20.append(y)\n",
    "    if get_chi_square(unitary, nonunitary, 0.1) < 4.61:\n",
    "        listx_x1x2_10.append(x)\n",
    "        listy_x1x2_10.append(y)\n",
    "    if get_chi_square(unitary, nonunitary, 0.05) < 4.61:\n",
    "        listx_x1x2_5.append(x)\n",
    "        listy_x1x2_5.append(y)"
   ]
  },
  {
   "cell_type": "code",
   "execution_count": 22,
   "id": "5b33f7de",
   "metadata": {},
   "outputs": [],
   "source": [
    "listx_x1x3_20 = []\n",
    "listy_x1x3_20 = []\n",
    "listx_x1x3_10 = []\n",
    "listy_x1x3_10 = []\n",
    "listx_x1x3_5 = []\n",
    "listy_x1x3_5 = []\n",
    "for (x, y, (unitary, nonunitary)) in list_x1x3: \n",
    "    if get_chi_square(unitary, nonunitary, 0.2) < 4.61:\n",
    "        listx_x1x3_20.append(x)\n",
    "        listy_x1x3_20.append(y)\n",
    "    if get_chi_square(unitary, nonunitary, 0.1) < 4.61:\n",
    "        listx_x1x3_10.append(x)\n",
    "        listy_x1x3_10.append(y)\n",
    "    if get_chi_square(unitary, nonunitary, 0.05) < 4.61:\n",
    "        listx_x1x3_5.append(x)\n",
    "        listy_x1x3_5.append(y)"
   ]
  },
  {
   "cell_type": "code",
   "execution_count": 26,
   "id": "5cfd1ffa",
   "metadata": {},
   "outputs": [],
   "source": [
    "listx_x2x3_20 = []\n",
    "listy_x2x3_20 = []\n",
    "listx_x2x3_10 = []\n",
    "listy_x2x3_10 = []\n",
    "listx_x2x3_5 = []\n",
    "listy_x2x3_5 = []\n",
    "for (x, y, (unitary, nonunitary)) in list_x2x3: \n",
    "    if get_chi_square(unitary, nonunitary, 0.2) < 4.61:\n",
    "        listx_x2x3_20.append(x)\n",
    "        listy_x2x3_20.append(y)\n",
    "    if get_chi_square(unitary, nonunitary, 0.1) < 4.61:\n",
    "        listx_x2x3_10.append(x)\n",
    "        listy_x2x3_10.append(y)\n",
    "    if get_chi_square(unitary, nonunitary, 0.05) < 4.61:\n",
    "        listx_x2x3_5.append(x)\n",
    "        listy_x2x3_5.append(y)"
   ]
  },
  {
   "cell_type": "code",
   "execution_count": 321,
   "id": "f0f4ee38",
   "metadata": {},
   "outputs": [],
   "source": [
    "listx_m12p12_20 = []\n",
    "listy_m12p12_20 = []\n",
    "listx_m12p12_10 = []\n",
    "listy_m12p12_10 = []\n",
    "listx_m12p12_5 = []\n",
    "listy_m12p12_5 = []\n",
    "for (m, p, (unitary, nonunitary)) in list_m12p12: \n",
    "    if get_chi_square(unitary, nonunitary, 0.2) < 4.61:\n",
    "        listx_m12p12_20.append(m)\n",
    "        listy_m12p12_20.append(p)\n",
    "    if get_chi_square(unitary, nonunitary, 0.1) < 4.61:\n",
    "        listx_m12p12_10.append(m)\n",
    "        listy_m12p12_10.append(p)\n",
    "    if get_chi_square(unitary, nonunitary, 0.05) < 4.61:\n",
    "        listx_m12p12_5.append(m)\n",
    "        listy_m12p12_5.append(p)"
   ]
  },
  {
   "cell_type": "code",
   "execution_count": 333,
   "id": "3217ea9e",
   "metadata": {},
   "outputs": [],
   "source": [
    "listx_m13p13_20 = []\n",
    "listy_m13p13_20 = []\n",
    "listx_m13p13_10 = []\n",
    "listy_m13p13_10 = []\n",
    "listx_m13p13_5 = []\n",
    "listy_m13p13_5 = []\n",
    "for (m, p, (unitary, nonunitary)) in list_m13p13: \n",
    "    if get_chi_square(unitary, nonunitary, 0.2) < 4.61:\n",
    "        listx_m13p13_20.append(m)\n",
    "        listy_m13p13_20.append(p)\n",
    "    if get_chi_square(unitary, nonunitary, 0.1) < 4.61:\n",
    "        listx_m13p13_10.append(m)\n",
    "        listy_m13p13_10.append(p)\n",
    "    if get_chi_square(unitary, nonunitary, 0.05) < 4.61:\n",
    "        listx_m13p13_5.append(m)\n",
    "        listy_m13p13_5.append(p)"
   ]
  },
  {
   "cell_type": "code",
   "execution_count": null,
   "id": "3781f748",
   "metadata": {},
   "outputs": [],
   "source": [
    "listx_m23p23_20 = []\n",
    "listy_m23p23_20 = []\n",
    "listx_m23p23_10 = []\n",
    "listy_m23p23_10 = []\n",
    "listx_m23p23_5 = []\n",
    "listy_m23p23_5 = []\n",
    "for (m, p, (unitary, nonunitary)) in list_m23p23: \n",
    "    if get_chi_square(unitary, nonunitary, 0.2) < 4.61:\n",
    "        listx_m23p23_20.append(m)\n",
    "        listy_m23p23_20.append(p)\n",
    "    if get_chi_square(unitary, nonunitary, 0.1) < 4.61:\n",
    "        listx_m23p23_10.append(m)\n",
    "        listy_m23p23_10.append(p)\n",
    "    if get_chi_square(unitary, nonunitary, 0.05) < 4.61:\n",
    "        listx_m23p23_5.append(m)\n",
    "        listy_m23p23_5.append(p)"
   ]
  },
  {
   "cell_type": "code",
   "execution_count": 199,
   "id": "f1b5dc43",
   "metadata": {},
   "outputs": [
    {
     "data": {
      "image/png": "[encoded data removed]",
      "text/plain": [
       "<Figure size 432x288 with 1 Axes>"
      ]
     },
     "metadata": {
      "needs_background": "light"
     },
     "output_type": "display_data"
    }
   ],
   "source": [
    "fig = plt.figure()\n",
    "plt.xlim(0, 0.5)\n",
    "plt.ylim(0, 0.5)\n",
    "plt.xlabel(r'1-$(UU^\\dagger)_{ee}$')\n",
    "plt.ylabel(r'1-$(UU^\\dagger)_{\\mu\\mu}$')\n",
    "plt.title(r'Standard error ellipses for 1-$(UU^\\dagger)_{\\mu\\mu}$ vs 1-$(UU^\\dagger)_{ee}$')\n",
    "plt.scatter(listx_x1x2_20, listy_x1x2_20, color = 'blue', label = '20% error')\n",
    "plt.scatter(listx_x1x2_10, listy_x1x2_10, color = 'red', label = '10% error')\n",
    "plt.scatter(listx_x1x2_5, listy_x1x2_5, color = 'green', label = '5% erro')\n",
    "plt.legend()\n",
    "plt.savefig('ellipses_x1x2.jpg', format = 'jpg', dpi = 1200)"
   ]
  },
  {
   "cell_type": "code",
   "execution_count": 29,
   "id": "aaed93ec",
   "metadata": {},
   "outputs": [
    {
     "data": {
      "image/png": "[encoded data removed]",
      "text/plain": [
       "<Figure size 432x288 with 1 Axes>"
      ]
     },
     "metadata": {
      "needs_background": "light"
     },
     "output_type": "display_data"
    }
   ],
   "source": [
    "plt.xlim(0, 0.5)\n",
    "plt.ylim(0, 0.5)\n",
    "plt.xlabel(r'1-$(UU^\\dagger)_{ee}$')\n",
    "plt.ylabel(r'1-$(UU^\\dagger)_{\\tau\\tau}$')\n",
    "plt.title(r'Standard error ellipses for 1-$(UU^\\dagger)_{\\tau\\tau}$ vs 1-$(UU^\\dagger)_{ee}$')\n",
    "plt.scatter(listx_x1x3_20, listy_x1x3_20, color = 'blue', label = '20% error')\n",
    "plt.scatter(listx_x1x3_10, listy_x1x3_10, color = 'red', label = '10% error')\n",
    "plt.scatter(listx_x1x3_5, listy_x1x3_5, color = 'green', label = '5% erro')\n",
    "plt.legend()\n",
    "plt.savefig('ellipses_x1x3.jpg', format = 'jpg', dpi = 1200)"
   ]
  },
  {
   "cell_type": "code",
   "execution_count": 30,
   "id": "6f5769ea",
   "metadata": {},
   "outputs": [
    {
     "data": {
      "image/png": "[encoded data removed]",
      "text/plain": [
       "<Figure size 432x288 with 1 Axes>"
      ]
     },
     "metadata": {
      "needs_background": "light"
     },
     "output_type": "display_data"
    }
   ],
   "source": [
    "plt.xlim(0, 0.5)\n",
    "plt.ylim(0, 0.5)\n",
    "plt.xlabel(r'1-$(UU^\\dagger)_{\\mu\\mu}$')\n",
    "plt.ylabel(r'1-$(UU^\\dagger)_{\\tau\\tau}$')\n",
    "plt.title(r'Standard error ellipses for 1-$(UU^\\dagger)_{\\tau\\tau}$ vs 1-$(UU^\\dagger)_{\\mu\\mu}$')\n",
    "plt.scatter(listx_x2x3_20, listy_x2x3_20, color = 'blue', label = '20% error')\n",
    "plt.scatter(listx_x2x3_10, listy_x2x3_10, color = 'red', label = '10% error')\n",
    "plt.scatter(listx_x2x3_5, listy_x2x3_5, color = 'green', label = '5% erro')\n",
    "plt.legend()\n",
    "plt.savefig('ellipses_x2x3.jpg', format = 'jpg', dpi = 1200)"
   ]
  },
  {
   "cell_type": "code",
   "execution_count": 324,
   "id": "dca06263",
   "metadata": {},
   "outputs": [
    {
     "data": {
      "image/png": "[encoded data removed]",
      "text/plain": [
       "<Figure size 432x288 with 1 Axes>"
      ]
     },
     "metadata": {
      "needs_background": "light"
     },
     "output_type": "display_data"
    }
   ],
   "source": [
    "plt.xlim(-0.05, 2.1)\n",
    "plt.ylim(-0.000005, 0.00003)\n",
    "plt.xlabel(r'Phase factor of $(UU^\\dagger)_{e\\mu}$ in $\\pi$')\n",
    "plt.ylabel(r'Magnitude of $(UU^\\dagger)_{e\\mu}$')\n",
    "plt.title(r'Magnitude vs Phase factor ($(UU^\\dagger)_{e\\mu}$)')\n",
    "plt.scatter(listy_m12p12_20, listx_m12p12_20, color = 'blue', label = '20% error')\n",
    "plt.scatter(listy_m12p12_10, listx_m12p12_10, color = 'red', label = '10% error')\n",
    "plt.scatter(listy_m12p12_5, listx_m12p12_5, color = 'green', label = '5% error')\n",
    "plt.legend()\n",
    "plt.savefig('m12p12.jpg', format = 'jpg', dpi = 1200)"
   ]
  },
  {
   "cell_type": "code",
   "execution_count": 335,
   "id": "498a8335",
   "metadata": {},
   "outputs": [
    {
     "data": {
      "image/png": "[encoded data removed]",
      "text/plain": [
       "<Figure size 432x288 with 1 Axes>"
      ]
     },
     "metadata": {
      "needs_background": "light"
     },
     "output_type": "display_data"
    }
   ],
   "source": [
    "plt.xlim(-0.05, 2.1)\n",
    "plt.ylim(-0.05, 1.3)\n",
    "plt.xlabel(r'Phase factor of $(UU^\\dagger)_{e\\tau}$ in $\\pi$')\n",
    "plt.ylabel(r'Magnitude of $(UU^\\dagger)_{e\\tau}$')\n",
    "plt.title(r'Magnitude vs Phase factor ($(UU^\\dagger)_{e\\tau}$)')\n",
    "plt.scatter(listy_m13p13_20, listx_m13p13_20, color = 'blue', label = '20% error')\n",
    "plt.scatter(listy_m13p13_10, listx_m13p13_10, color = 'red', label = '10% error')\n",
    "plt.scatter(listy_m13p13_5, listx_m13p13_5, color = 'green', label = '5% error')\n",
    "plt.legend()\n",
    "plt.savefig('m13p13.jpg', format = 'jpg', dpi = 1200)"
   ]
  },
  {
   "cell_type": "code",
   "execution_count": 312,
   "id": "d45c848e",
   "metadata": {},
   "outputs": [
    {
     "data": {
      "text/plain": [
       "array([[ 1.+0.0000000e+00j, -1.+1.2246468e-16j,  0.+0.0000000e+00j],\n",
       "       [-1.-1.2246468e-16j,  1.+0.0000000e+00j,  0.+0.0000000e+00j],\n",
       "       [ 0.+0.0000000e+00j,  0.+0.0000000e+00j,  1.+0.0000000e+00j]])"
      ]
     },
     "execution_count": 312,
     "metadata": {},
     "output_type": "execute_result"
    }
   ],
   "source": [
    "t0 = time.time()\n",
    "nu_sys = NuSystem(3)\n",
    "nu_sys.set_standard_normal()\n",
    "nu_sys.set_nonunitary(1, 2, 1*np.exp(np.pi*1*1j))\n",
    "alpha1 = create_alpha(nu_sys.nonunitary.copy())\n",
    "    \n",
    "UPMNS = create_U_PMNS(nu_sys.theta, nu_sys.delta) \n",
    "U1 = alpha1 @ UPMNS\n",
    "nu_sys.nonunitary.copy()"
   ]
  },
  {
   "cell_type": "code",
   "execution_count": 314,
   "id": "7b597f4e",
   "metadata": {},
   "outputs": [
    {
     "data": {
      "text/plain": [
       "array([[ 1.+0.0000000e+00j, -1.+1.2246468e-16j,  0.+0.0000000e+00j],\n",
       "       [-1.-1.2246468e-16j,  1.+0.0000000e+00j,  0.+0.0000000e+00j],\n",
       "       [ 0.-0.0000000e+00j,  0.-0.0000000e+00j,  1.+0.0000000e+00j]])"
      ]
     },
     "execution_count": 314,
     "metadata": {},
     "output_type": "execute_result"
    }
   ],
   "source": [
    "t0 = time.time()\n",
    "nu_sys = NuSystem(3)\n",
    "nu_sys.set_standard_normal()\n",
    "nu_sys.set_nonunitary(1, 2, 1*np.exp(np.pi*1*1j))\n",
    "nu_sys.set_nonunitary(1, 3, 0*np.exp(np.pi*0*1j))\n",
    "nu_sys.set_nonunitary(2, 3, 0*np.exp(np.pi*0*1j))\n",
    "alpha1 = create_alpha(nu_sys.nonunitary.copy())\n",
    "    \n",
    "UPMNS = create_U_PMNS(nu_sys.theta, nu_sys.delta) \n",
    "U1 = alpha1 @ UPMNS\n",
    "nu_sys.nonunitary.copy()"
   ]
  },
  {
   "cell_type": "code",
   "execution_count": null,
   "id": "f625d2fd",
   "metadata": {},
   "outputs": [],
   "source": []
  }
 ],
 "metadata": {
  "kernelspec": {
   "display_name": "Python 3 (ipykernel)",
   "language": "python",
   "name": "python3"
  },
  "language_info": {
   "codemirror_mode": {
    "name": "ipython",
    "version": 3
   },
   "file_extension": ".py",
   "mimetype": "text/x-python",
   "name": "python",
   "nbconvert_exporter": "python",
   "pygments_lexer": "ipython3",
   "version": "3.9.12"
  }
 },
 "nbformat": 4,
 "nbformat_minor": 5
}
