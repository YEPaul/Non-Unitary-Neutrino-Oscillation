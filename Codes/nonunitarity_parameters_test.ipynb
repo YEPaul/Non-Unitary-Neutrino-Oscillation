{
 "cells": [
  {
   "cell_type": "code",
   "execution_count": 4,
   "id": "01484a53",
   "metadata": {},
   "outputs": [],
   "source": [
    "import matplotlib.pyplot as plt\n",
    "import numpy as np\n",
    "import time"
   ]
  },
  {
   "cell_type": "code",
   "execution_count": 5,
   "id": "f536b95d",
   "metadata": {},
   "outputs": [],
   "source": [
    "from nuprobe.inputs import NuSystem, create_U_PMNS, create_alpha\n",
    "from nuprobe.probability import nuprobe\n",
    "from nuprobe.params import theta12n, theta23n, theta13n, delta13n, m1n, m2n, m3n\n",
    "from nuprobe.params import theta12i, theta23i, theta13i, delta13i, m1i, m2i, m3i"
   ]
  },
  {
   "cell_type": "code",
   "execution_count": 203,
   "id": "b8a7e546",
   "metadata": {},
   "outputs": [],
   "source": [
    "def run(x1, x2, x3, p):\n",
    "    t0 = time.time()\n",
    "    nu_sys = NuSystem(3)\n",
    "    nu_sys.set_standard_normal()\n",
    "    nu_sys.set_nonunitary(1, 1, x1)\n",
    "    nu_sys.set_nonunitary(2, 2, x2)\n",
    "    nu_sys.set_nonunitary(3, 3, x3)\n",
    "    alpha1 = create_alpha(nu_sys.nonunitary.copy())\n",
    "    \n",
    "    UPMNS = create_U_PMNS(nu_sys.theta, nu_sys.delta) \n",
    "    U1 = alpha1 @ UPMNS\n",
    "    \n",
    "    PE = []\n",
    "    PE1 = []\n",
    "    num = 1000\n",
    "    EE = np.logspace(0, 5, num)\n",
    "    L = 1300\n",
    "    \n",
    "    for i in range(num):\n",
    "        PE.append(nuprobe(2, 1, L, EE[i], nu_sys.mass, UPMNS, antinu=False, const_matter=True, V_NSI=None))\n",
    "        PE1.append(nuprobe(2, 1, L, EE[i], nu_sys.mass, U1, antinu=False, const_matter=True, V_NSI=None))\n",
    "        \n",
    "#     plt.rc('text', usetex=True)\n",
    "#     plt.rcParams['text.latex.preamble']=r\"\\usepackage{amsmath,slashed}\"\n",
    "#     plt.rcParams.update({'figure.autolayout': True})\n",
    "#     plt.rcParams[\"figure.figsize\"] = (8, 7)\n",
    "#     plt.rc('font', **{'family' : 'serif', 'size' : 17})\n",
    "\n",
    "    unitary = PE\n",
    "    nonunitary = PE1\n",
    "    \n",
    "    \n",
    "    \n",
    "    return (unitary, nonunitary)"
   ]
  },
  {
   "cell_type": "code",
   "execution_count": 216,
   "id": "76d8ea31",
   "metadata": {},
   "outputs": [],
   "source": [
    "def test(a12, a23, a13, p):\n",
    "    nu_sys = NuSystem(3)\n",
    "    nu_sys.set_theta(1, 2, a12)\n",
    "    nu_sys.set_theta(2, 3, a23)\n",
    "    nu_sys.set_theta(1, 3, a13)\n",
    "    nu_sys.set_delta(1, 3, p)\n",
    "    UPMNS2 = create_U_PMNS(nu_sys.theta, nu_sys.delta)    \n",
    "    \n",
    "    nu_sys.set_standard_normal()\n",
    "    UPMNS1 = create_U_PMNS(nu_sys.theta, nu_sys.delta)\n",
    "    \n",
    "    PE = []\n",
    "    PE1 = []\n",
    "    num = 1000\n",
    "    EE = np.logspace(0, 2, num)\n",
    "    L = 1300\n",
    "\n",
    "    for i in range(num):\n",
    "        PE.append(nuprobe(2, 1, L, EE[i], nu_sys.mass, UPMNS1, antinu=False, const_matter=True, V_NSI=None))\n",
    "        PE1.append(nuprobe(2, 1, L, EE[i], nu_sys.mass, UPMNS2, antinu=False, const_matter=True, V_NSI=None)) \n",
    "        \n",
    "    return (PE, PE1)"
   ]
  },
  {
   "cell_type": "code",
   "execution_count": 217,
   "id": "5fe60e2d",
   "metadata": {},
   "outputs": [],
   "source": [
    "all_results = []\n",
    "for a12 in (0.5707, 0.5836, 0.597):\n",
    "    for a23 in (0.836, 0.8587, 0.8762):\n",
    "        for a13 in (0.1475, 0.1496, 0.1519):\n",
    "            for p in (2.9496, 3.3859, 4.2935):\n",
    "                all_results.append((a12, a23, a13, p, test(a12, a23, a13, p)))"
   ]
  },
  {
   "cell_type": "code",
   "execution_count": 277,
   "id": "056f2dcc",
   "metadata": {},
   "outputs": [],
   "source": [
    "error_list = []\n",
    "for (a12, a23, a13, p, (PE, PE1)) in all_results:\n",
    "    diff = [bound - mean for mean, bound in zip(PE, PE1)]\n",
    "    error = [d / mean for d, mean in zip(diff, PE)] \n",
    "    error_list.append((a12, a23, a13, p, max(error), min(error)))"
   ]
  },
  {
   "cell_type": "code",
   "execution_count": 278,
   "id": "c678462a",
   "metadata": {},
   "outputs": [
    {
     "name": "stdout",
     "output_type": "stream",
     "text": [
      "(0.5707, 0.0026063651331490792, -0.036530333324880544)\n",
      "(0.5836, 0.0, 0.0)\n",
      "(0.597, 0.037080272006321226, -0.0025981227899584246)\n"
     ]
    }
   ],
   "source": [
    "for (a12, a23, a13, p, error_max, error_min) in error_list:\n",
    "    if a23 == 0.8587:\n",
    "        if a13 == 0.1496:\n",
    "            if p == 3.3859:\n",
    "                print((a12, error_max, error_min))"
   ]
  },
  {
   "cell_type": "code",
   "execution_count": 279,
   "id": "9376ff36",
   "metadata": {},
   "outputs": [
    {
     "name": "stdout",
     "output_type": "stream",
     "text": [
      "(0.836, 0.08252125332713993, -0.046597457954665474)\n",
      "(0.8587, 0.0, 0.0)\n",
      "(0.8762, 0.03596915183237058, -0.061283717855695176)\n"
     ]
    }
   ],
   "source": [
    "for (a12, a23, a13, p, error_max, error_min) in error_list:\n",
    "    if a12 == 0.5836:\n",
    "        if a13 == 0.1496:\n",
    "            if p == 3.3859:\n",
    "                print((a23, error_max, error_min))"
   ]
  },
  {
   "cell_type": "code",
   "execution_count": 280,
   "id": "b4836ca9",
   "metadata": {},
   "outputs": [
    {
     "name": "stdout",
     "output_type": "stream",
     "text": [
      "(0.1475, 0.011858453992746895, -0.029283696236634935)\n",
      "(0.1496, 0.0, 0.0)\n",
      "(0.1519, 0.03252791945863379, -0.01288995456029377)\n"
     ]
    }
   ],
   "source": [
    "for (a12, a23, a13, p, error_max, error_min) in error_list:\n",
    "    if a12 == 0.5836:\n",
    "        if a23 == 0.8587:\n",
    "            if p == 3.3859:\n",
    "                print((a13, error_max, error_min))"
   ]
  },
  {
   "cell_type": "code",
   "execution_count": 281,
   "id": "0cf38400",
   "metadata": {},
   "outputs": [
    {
     "name": "stdout",
     "output_type": "stream",
     "text": [
      "(2.9496, 0.0518375296558794, -0.7730217031789356)\n",
      "(3.3859, 0.0, 0.0)\n",
      "(4.2935, 2.7205615892879598, -0.3412526880360365)\n"
     ]
    }
   ],
   "source": [
    "for (a12, a23, a13, p, error_max, error_min) in error_list:\n",
    "    if a12 == 0.5836:\n",
    "        if a23 == 0.8587:\n",
    "            if a13 == 0.1496:\n",
    "                print((p, error_max, error_min))"
   ]
  },
  {
   "cell_type": "code",
   "execution_count": 154,
   "id": "c0b6ae5d",
   "metadata": {},
   "outputs": [
    {
     "name": "stdout",
     "output_type": "stream",
     "text": [
      "(0.5707, 0.836, 0.1475, 0.05588739073063143)\n",
      "(0.5707, 0.836, 0.1496, 0.04394738485944442)\n",
      "(0.5707, 0.836, 0.1519, 0.03111014301892396)\n",
      "(0.5707, 0.8587, 0.1475, -0.023836040324730773)\n",
      "(0.5707, 0.8587, 0.1496, 0.002641071378820219)\n",
      "(0.5707, 0.8587, 0.1519, 0.035286008385110125)\n",
      "(0.5707, 0.8762, 0.1475, 0.00838418468909238)\n",
      "(0.5707, 0.8762, 0.1496, 0.03874322444254689)\n",
      "(0.5707, 0.8762, 0.1519, 0.07246515580513851)\n",
      "(0.5836, 0.836, 0.1475, 0.09470557804995852)\n",
      "(0.5836, 0.836, 0.1496, 0.08238153719105937)\n",
      "(0.5836, 0.836, 0.1519, 0.06911374857905836)\n",
      "(0.5836, 0.8587, 0.1475, 0.011479500346011105)\n",
      "(0.5836, 0.8587, 0.1496, 0.0)\n",
      "(0.5836, 0.8587, 0.1519, 0.03259125340075652)\n",
      "(0.5836, 0.8762, 0.1475, 0.0057723823743619194)\n",
      "(0.5836, 0.8762, 0.1496, 0.03608211455704907)\n",
      "(0.5836, 0.8762, 0.1519, 0.06974978063631158)\n",
      "(0.597, 0.836, 0.1475, 0.13409146678563122)\n",
      "(0.597, 0.836, 0.1496, 0.12139634761348155)\n",
      "(0.597, 0.836, 0.1519, 0.10771194294707458)\n",
      "(0.597, 0.8587, 0.1475, 0.04819706819415498)\n",
      "(0.597, 0.8587, 0.1496, 0.03674933892481752)\n",
      "(0.597, 0.8587, 0.1519, 0.02990515440568371)\n",
      "(0.597, 0.8762, 0.1475, 0.003168721961053174)\n",
      "(0.597, 0.8762, 0.1496, 0.033428669649826416)\n",
      "(0.597, 0.8762, 0.1519, 0.0670415435113969)\n"
     ]
    }
   ],
   "source": [
    "for (a12, a23, a13, p, error_max) in error_list:\n",
    "    if p == 3.3859:\n",
    "        print((a12, a23, a13, error_max))"
   ]
  },
  {
   "cell_type": "code",
   "execution_count": 285,
   "id": "3f381c70",
   "metadata": {},
   "outputs": [],
   "source": [
    "ptest = []\n",
    "for p in np.linspace(2.9496, 3.4321, 50):\n",
    "    for a12 in (0.5707, 0.58, 0.597):\n",
    "        for a23 in (0.836, 0.8762):\n",
    "            for a13 in (0.1475, 0.1519):\n",
    "                ptest.append((a12, a23, a13, p, test(a12, a23, a13, p)))"
   ]
  },
  {
   "cell_type": "code",
   "execution_count": 284,
   "id": "70dbe36c",
   "metadata": {},
   "outputs": [
    {
     "name": "stdout",
     "output_type": "stream",
     "text": [
      "(0.5707, 0.836, 0.1475, 3.324877777777778, 0.02752314076767087, -0.1547984746489653)\n",
      "(0.5707, 0.836, 0.1519, 3.324877777777778, 0.020279918514541164, -0.12266095456285427)\n",
      "(0.5707, 0.8762, 0.1475, 3.324877777777778, 0.005548954844227682, -0.18539387277929087)\n",
      "(0.5707, 0.8762, 0.1519, 3.324877777777778, 0.06942538682558054, -0.19276119144113432)\n",
      "(0.58, 0.836, 0.1475, 3.324877777777778, 0.052646995872239505, -0.1525006120059735)\n",
      "(0.58, 0.836, 0.1519, 3.324877777777778, 0.04080269579507683, -0.11681286550740999)\n",
      "(0.58, 0.8762, 0.1475, 3.324877777777778, 0.003658105195163355, -0.17091038917571041)\n",
      "(0.58, 0.8762, 0.1519, 3.324877777777778, 0.06745971192416826, -0.1740858972181887)\n",
      "(0.597, 0.836, 0.1475, 3.324877777777778, 0.09907083456563623, -0.1498127315661079)\n",
      "(0.597, 0.836, 0.1519, 3.324877777777778, 0.08175281418225738, -0.11037200642374272)\n",
      "(0.597, 0.8762, 0.1475, 3.324877777777778, 0.010268080670854905, -0.151065924043731)\n",
      "(0.597, 0.8762, 0.1519, 3.324877777777778, 0.0640086932562311, -0.1450613426919284)\n",
      "(0.5707, 0.836, 0.1475, 3.378488888888889, 0.04831060185017089, -0.07246725314415532)\n",
      "(0.5707, 0.836, 0.1519, 3.378488888888889, 0.022696734035376257, -0.013218973343586076)\n",
      "(0.5707, 0.8762, 0.1475, 3.378488888888889, 0.007928174982576825, -0.09277102392438467)\n",
      "(0.5707, 0.8762, 0.1519, 3.378488888888889, 0.07187172875956858, -0.11500951901509704)\n",
      "(0.58, 0.836, 0.1475, 3.378488888888889, 0.07668810904224488, -0.07430358436930559)\n",
      "(0.58, 0.836, 0.1519, 3.378488888888889, 0.05066052719928789, -0.01512703158031223)\n",
      "(0.58, 0.8762, 0.1475, 3.378488888888889, 0.006056657237990928, -0.0688990599268756)\n",
      "(0.58, 0.8762, 0.1519, 3.378488888888889, 0.06992593116479526, -0.09065336122808573)\n",
      "(0.597, 0.836, 0.1475, 3.378488888888889, 0.12731936956948753, -0.07752254691059739)\n",
      "(0.597, 0.836, 0.1519, 3.378488888888889, 0.10059796514829994, -0.01847445234166883)\n",
      "(0.597, 0.8762, 0.1475, 3.378488888888889, 0.002771733691541749, -0.03326724214174541)\n",
      "(0.597, 0.8762, 0.1519, 3.378488888888889, 0.06650900413620245, -0.048031925568583246)\n",
      "(0.5707, 0.836, 0.1475, 3.4321, 0.13234170603060516, -0.0695604644138877)\n",
      "(0.5707, 0.836, 0.1519, 3.4321, 0.13381165433572526, -0.010229511731450255)\n",
      "(0.5707, 0.8762, 0.1475, 3.4321, 0.07995717124237715, -0.06642526222239613)\n",
      "(0.5707, 0.8762, 0.1519, 3.4321, 0.13452843648490287, -0.08098283857096482)\n",
      "(0.58, 0.836, 0.1475, 3.4321, 0.15588822981625292, -0.07137319873054435)\n",
      "(0.58, 0.836, 0.1519, 3.4321, 0.150680369670333, -0.012113975419137044)\n",
      "(0.58, 0.8762, 0.1475, 3.4321, 0.0830074822611945, -0.045442748816951276)\n",
      "(0.58, 0.8762, 0.1519, 3.4321, 0.1344492677357135, -0.057453486922758736)\n",
      "(0.597, 0.836, 0.1475, 3.4321, 0.1999400662241745, -0.07455169390455561)\n",
      "(0.597, 0.836, 0.1519, 3.4321, 0.18679002137896675, -0.015419787130512737)\n",
      "(0.597, 0.8762, 0.1475, 3.4321, 0.09335968016497209, -0.012992928032150948)\n",
      "(0.597, 0.8762, 0.1519, 3.4321, 0.13585265911723482, -0.017191936187924695)\n"
     ]
    }
   ],
   "source": [
    "error_list_p = []\n",
    "for (a12, a23, a13, p, (PE, PE1)) in ptest:\n",
    "    diff = [bound - mean for mean, bound in zip(PE, PE1)]\n",
    "    error = [d / mean for d, mean in zip(diff, PE)] \n",
    "    error_list_p.append((a12, a23, a13, p, max(error), min(error)))\n",
    "    \n",
    "for ((a12, a23, a13, p, error_max, error_min)) in error_list_p:\n",
    "    if error_max < 0.2:\n",
    "        if abs(error_min) < 0.2:\n",
    "            print((a12, a23, a13, p, error_max, error_min))"
   ]
  },
  {
   "cell_type": "code",
   "execution_count": 26,
   "id": "fa2b48ef",
   "metadata": {},
   "outputs": [],
   "source": [
    "all_results = []\n",
    "for a12 in (0.5807, 0.5836, 0.5865):\n",
    "    for a23 in (0.8476, 0.8587, 0.8678):\n",
    "        for a13 in (0.1431, 0.1496, 0.1566):\n",
    "            for p in (3.3211, 3.3859, 3.4321):\n",
    "                all_results.append((a12, a23, a13 , p, test(a12, a23, a13, p)))"
   ]
  },
  {
   "cell_type": "code",
   "execution_count": 173,
   "id": "0d0cff28",
   "metadata": {},
   "outputs": [],
   "source": [
    "error_list = []\n",
    "for (a12, a23, a13, p, (PE, PE1)) in all_results:\n",
    "    diff = [bound - mean for mean, bound in zip(PE, PE1)]\n",
    "    error = [d / mean for d, mean in zip(diff, PE)] \n",
    "    error_list.append((a12, a23, a13, p, max(error)))"
   ]
  },
  {
   "cell_type": "code",
   "execution_count": 174,
   "id": "51411b64",
   "metadata": {},
   "outputs": [
    {
     "name": "stdout",
     "output_type": "stream",
     "text": [
      "(0.5707, 0.0026063651331490792)\n",
      "(0.5836, 0.0)\n",
      "(0.597, 0.037080272006321226)\n"
     ]
    }
   ],
   "source": [
    "for (a12, a23, a13, p, error_max) in error_list:\n",
    "    if a23 == 0.8587:\n",
    "        if a13 == 0.1496:\n",
    "            if p == 3.3859:\n",
    "                print((a12, error_max))"
   ]
  },
  {
   "cell_type": "code",
   "execution_count": 175,
   "id": "31120dbe",
   "metadata": {},
   "outputs": [
    {
     "name": "stdout",
     "output_type": "stream",
     "text": [
      "(0.836, 0.08252125332713993)\n",
      "(0.8587, 0.0)\n",
      "(0.8762, 0.03596915183237058)\n"
     ]
    }
   ],
   "source": [
    "for (a12, a23, a13, p, error_max) in error_list:\n",
    "    if a12 == 0.5836:\n",
    "        if a13 == 0.1496:\n",
    "            if p == 3.3859:\n",
    "                print((a23, error_max))"
   ]
  },
  {
   "cell_type": "code",
   "execution_count": 176,
   "id": "aa53fd15",
   "metadata": {},
   "outputs": [
    {
     "name": "stdout",
     "output_type": "stream",
     "text": [
      "(0.1475, 0.011858453992746895)\n",
      "(0.1496, 0.0)\n",
      "(0.1519, 0.03252791945863379)\n"
     ]
    }
   ],
   "source": [
    "for (a12, a23, a13, p, error_max) in error_list:\n",
    "    if a12 == 0.5836:\n",
    "        if a23 == 0.8587:\n",
    "            if p == 3.3859:\n",
    "                print((a13, error_max))"
   ]
  },
  {
   "cell_type": "code",
   "execution_count": 177,
   "id": "4d22856b",
   "metadata": {},
   "outputs": [
    {
     "name": "stdout",
     "output_type": "stream",
     "text": [
      "(2.9496, 0.0518375296558794)\n",
      "(3.3859, 0.0)\n",
      "(4.2935, 2.7205615892879598)\n"
     ]
    }
   ],
   "source": [
    "for (a12, a23, a13, p, error_max) in error_list:\n",
    "    if a12 == 0.5836:\n",
    "        if a23 == 0.8587:\n",
    "            if a13 == 0.1496:\n",
    "                print((p, error_max))"
   ]
  },
  {
   "cell_type": "code",
   "execution_count": 178,
   "id": "1eab50cd",
   "metadata": {},
   "outputs": [],
   "source": [
    "for (a12, a23, a13, p, error_max) in error_list:\n",
    "    if p == 3.3859:\n",
    "        if a23 == 0.9076:\n",
    "            print((a12, a23, a13, error_max))"
   ]
  },
  {
   "cell_type": "code",
   "execution_count": 71,
   "id": "2235c663",
   "metadata": {},
   "outputs": [],
   "source": [
    "p_error_test = []\n",
    "for p in np.linspace(1.8326, 4.2935, 100):\n",
    "    p_error_test.append((p, test(0.5836, 0.8587, 0.1496, p)))"
   ]
  },
  {
   "cell_type": "code",
   "execution_count": 268,
   "id": "8269e7c6",
   "metadata": {},
   "outputs": [],
   "source": [
    "p_osc_error = []\n",
    "for (p, (PE, PE1)) in p_error_test:\n",
    "    diff = [bound - mean for mean, bound in zip(PE, PE1)]\n",
    "    error = [d / mean for d, mean in zip(diff, PE)] \n",
    "    p_osc_error.append((p, max(error)))"
   ]
  },
  {
   "cell_type": "code",
   "execution_count": 55,
   "id": "4a4e3e8b",
   "metadata": {},
   "outputs": [],
   "source": [
    "list_p = []\n",
    "list_error = []\n",
    "for (p,  error_max) in p_osc_error:\n",
    "    list_p.append(p)\n",
    "    list_error.append(error_max)"
   ]
  },
  {
   "cell_type": "code",
   "execution_count": 57,
   "id": "72359360",
   "metadata": {},
   "outputs": [
    {
     "data": {
      "image/png": "[encoded data removed]",
      "text/plain": [
       "<Figure size 432x288 with 1 Axes>"
      ]
     },
     "metadata": {
      "needs_background": "light"
     },
     "output_type": "display_data"
    }
   ],
   "source": [
    "plt.xlim(2.945, 4.3)\n",
    "plt.ylim(0, 2.7)\n",
    "plt.plot(list_p, list_error)\n",
    "plt.xlabel('CP Phase Factor (radian)')\n",
    "plt.ylabel(r'Oscillation Error With $\\delta_{CP}$ = 3.2773 Being the Mean')\n",
    "plt.savefig('osc_error vs phase_1.jpg', format = 'jpg', dpi = 1200)"
   ]
  }
 ],
 "metadata": {
  "kernelspec": {
   "display_name": "Python 3 (ipykernel)",
   "language": "python",
   "name": "python3"
  },
  "language_info": {
   "codemirror_mode": {
    "name": "ipython",
    "version": 3
   },
   "file_extension": ".py",
   "mimetype": "text/x-python",
   "name": "python",
   "nbconvert_exporter": "python",
   "pygments_lexer": "ipython3",
   "version": "3.9.12"
  }
 },
 "nbformat": 4,
 "nbformat_minor": 5
}
